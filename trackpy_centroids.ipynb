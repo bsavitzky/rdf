{
 "metadata": {
  "name": "",
  "signature": "sha256:208756b8fa40fd304627835dcb110f4829c1a912f8972dffe492e265fc157439"
 },
 "nbformat": 3,
 "nbformat_minor": 0,
 "worksheets": [
  {
   "cells": [
    {
     "cell_type": "code",
     "collapsed": false,
     "input": [
      "import matplotlib as mpl\n",
      "import matplotlib.pyplot as plt"
     ],
     "language": "python",
     "metadata": {},
     "outputs": [],
     "prompt_number": 1
    },
    {
     "cell_type": "code",
     "collapsed": false,
     "input": [
      "import numpy as np\n",
      "import pandas as pd\n",
      "from pandas import DataFrame, Series\n",
      "import pims\n",
      "import trackpy as tp"
     ],
     "language": "python",
     "metadata": {},
     "outputs": [],
     "prompt_number": 2
    },
    {
     "cell_type": "code",
     "collapsed": false,
     "input": [
      "filename=\"/Users/bsavitzky/Data/PbSe_QDS/150831_CBCs_PbSe_lowThickness_noUltrathin/TiffsFromDm3Files/21_fov600nm_8us_1024.tif\"\n",
      "frames=pims.ImageSequence(filename,as_grey=True)"
     ],
     "language": "python",
     "metadata": {},
     "outputs": [],
     "prompt_number": 3
    },
    {
     "cell_type": "code",
     "collapsed": false,
     "input": [
      "f=tp.locate(frames[0],5,invert=False)"
     ],
     "language": "python",
     "metadata": {},
     "outputs": [],
     "prompt_number": 14
    },
    {
     "cell_type": "code",
     "collapsed": false,
     "input": [
      "f.head()"
     ],
     "language": "python",
     "metadata": {},
     "outputs": [
      {
       "html": [
        "<div style=\"max-width:1500px;overflow:auto;\">\n",
        "<table border=\"1\" class=\"dataframe\">\n",
        "  <thead>\n",
        "    <tr style=\"text-align: right;\">\n",
        "      <th></th>\n",
        "      <th>x</th>\n",
        "      <th>y</th>\n",
        "      <th>mass</th>\n",
        "      <th>size</th>\n",
        "      <th>ecc</th>\n",
        "      <th>signal</th>\n",
        "      <th>ep</th>\n",
        "      <th>frame</th>\n",
        "    </tr>\n",
        "  </thead>\n",
        "  <tbody>\n",
        "    <tr>\n",
        "      <th>0</th>\n",
        "      <td>97.185272</td>\n",
        "      <td>3.811464</td>\n",
        "      <td>1614</td>\n",
        "      <td>1.895504</td>\n",
        "      <td>0.048911</td>\n",
        "      <td>0.126657</td>\n",
        "      <td>0.108591</td>\n",
        "      <td>0</td>\n",
        "    </tr>\n",
        "    <tr>\n",
        "      <th>1</th>\n",
        "      <td>204.009350</td>\n",
        "      <td>4.003710</td>\n",
        "      <td>1064</td>\n",
        "      <td>1.854176</td>\n",
        "      <td>0.081323</td>\n",
        "      <td>0.108469</td>\n",
        "      <td>0.131002</td>\n",
        "      <td>0</td>\n",
        "    </tr>\n",
        "    <tr>\n",
        "      <th>2</th>\n",
        "      <td>244.083910</td>\n",
        "      <td>3.834255</td>\n",
        "      <td>1461</td>\n",
        "      <td>1.904819</td>\n",
        "      <td>0.063254</td>\n",
        "      <td>0.138213</td>\n",
        "      <td>0.098803</td>\n",
        "      <td>0</td>\n",
        "    </tr>\n",
        "    <tr>\n",
        "      <th>3</th>\n",
        "      <td>339.176629</td>\n",
        "      <td>4.103863</td>\n",
        "      <td>1335</td>\n",
        "      <td>1.869928</td>\n",
        "      <td>0.099347</td>\n",
        "      <td>0.159209</td>\n",
        "      <td>0.088134</td>\n",
        "      <td>0</td>\n",
        "    </tr>\n",
        "    <tr>\n",
        "      <th>4</th>\n",
        "      <td>380.806827</td>\n",
        "      <td>3.887790</td>\n",
        "      <td>1167</td>\n",
        "      <td>1.902959</td>\n",
        "      <td>0.091765</td>\n",
        "      <td>0.146677</td>\n",
        "      <td>0.093234</td>\n",
        "      <td>0</td>\n",
        "    </tr>\n",
        "  </tbody>\n",
        "</table>\n",
        "</div>"
       ],
       "metadata": {},
       "output_type": "pyout",
       "prompt_number": 11,
       "text": [
        "            x         y  mass      size       ecc    signal        ep  frame\n",
        "0   97.185272  3.811464  1614  1.895504  0.048911  0.126657  0.108591      0\n",
        "1  204.009350  4.003710  1064  1.854176  0.081323  0.108469  0.131002      0\n",
        "2  244.083910  3.834255  1461  1.904819  0.063254  0.138213  0.098803      0\n",
        "3  339.176629  4.103863  1335  1.869928  0.099347  0.159209  0.088134      0\n",
        "4  380.806827  3.887790  1167  1.902959  0.091765  0.146677  0.093234      0"
       ]
      }
     ],
     "prompt_number": 11
    },
    {
     "cell_type": "code",
     "collapsed": false,
     "input": [
      "tp.annotate(f,frames[0])"
     ],
     "language": "python",
     "metadata": {},
     "outputs": [
      {
       "metadata": {},
       "output_type": "pyout",
       "prompt_number": 15,
       "text": [
        "<matplotlib.axes._subplots.AxesSubplot at 0x11240a210>"
       ]
      }
     ],
     "prompt_number": 15
    },
    {
     "cell_type": "code",
     "collapsed": false,
     "input": [
      "tp.subpx_bias(f)"
     ],
     "language": "python",
     "metadata": {},
     "outputs": [
      {
       "metadata": {},
       "output_type": "pyout",
       "prompt_number": 16,
       "text": [
        "<matplotlib.axes._subplots.AxesSubplot at 0x109816d10>"
       ]
      }
     ],
     "prompt_number": 16
    },
    {
     "cell_type": "code",
     "collapsed": false,
     "input": [],
     "language": "python",
     "metadata": {},
     "outputs": []
    }
   ],
   "metadata": {}
  }
 ]
}