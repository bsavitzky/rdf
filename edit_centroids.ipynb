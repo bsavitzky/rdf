{
 "metadata": {
  "name": "",
  "signature": "sha256:80cb2339417e22f599758bbaf730d9a9fd2c8abaeb708677131b5f1911b6f4f1"
 },
 "nbformat": 3,
 "nbformat_minor": 0,
 "worksheets": [
  {
   "cells": [
    {
     "cell_type": "markdown",
     "metadata": {},
     "source": [
      "####Define filepaths####"
     ]
    },
    {
     "cell_type": "code",
     "collapsed": false,
     "input": [
      "image_file=\"sample_files/29_fov750nm_8us_4096.tif\"\n",
      "centroid_file=\"outputs/centroids.npz\""
     ],
     "language": "python",
     "metadata": {},
     "outputs": [],
     "prompt_number": 70
    },
    {
     "cell_type": "markdown",
     "metadata": {},
     "source": [
      "####Import libraries####"
     ]
    },
    {
     "cell_type": "code",
     "collapsed": false,
     "input": [
      "import numpy as np\n",
      "import matplotlib.pyplot as plt\n",
      "import os\n",
      "import skimage.io\n",
      "\n",
      "from matplotlib.patches import Circle\n",
      "from matplotlib.collections import PatchCollection\n",
      "from sys import stdout"
     ],
     "language": "python",
     "metadata": {},
     "outputs": [],
     "prompt_number": 28
    },
    {
     "cell_type": "markdown",
     "metadata": {},
     "source": [
      "####Configure matplotlib####"
     ]
    },
    {
     "cell_type": "code",
     "collapsed": false,
     "input": [
      "%matplotlib osx"
     ],
     "language": "python",
     "metadata": {},
     "outputs": [],
     "prompt_number": 3
    },
    {
     "cell_type": "markdown",
     "metadata": {},
     "source": [
      "###Handle I/O###"
     ]
    },
    {
     "cell_type": "markdown",
     "metadata": {},
     "source": [
      "####Output path####"
     ]
    },
    {
     "cell_type": "code",
     "collapsed": false,
     "input": [
      "if not os.path.exists(\"outputs\"):\n",
      "    os.mkdir(\"outputs\")\n",
      "output_name=\"outputs/\"+\"centroids_edited\""
     ],
     "language": "python",
     "metadata": {},
     "outputs": [],
     "prompt_number": 4
    },
    {
     "cell_type": "markdown",
     "metadata": {},
     "source": [
      "####Get image and centroids####"
     ]
    },
    {
     "cell_type": "code",
     "collapsed": false,
     "input": [
      "image = skimage.io.imread(image_file)\n",
      "centroids = np.load(centroid_file)\n",
      "x=centroids['x']\n",
      "y=centroids['y']\n",
      "spacing=float(centroids['spacing'])"
     ],
     "language": "python",
     "metadata": {},
     "outputs": [],
     "prompt_number": 5
    },
    {
     "cell_type": "markdown",
     "metadata": {},
     "source": [
      "###Make edits###"
     ]
    },
    {
     "cell_type": "markdown",
     "metadata": {},
     "source": [
      "####Define Centroids class with necessary bindings####"
     ]
    },
    {
     "cell_type": "code",
     "collapsed": false,
     "input": [
      "class Centroids:\n",
      "    def __init__(self, x, y, r, patches):\n",
      "        self.p = patches\n",
      "        self.x = np.ndarray.tolist(x)\n",
      "        self.y = np.ndarray.tolist(y)\n",
      "        self.r = r\n",
      "        self.mode = 0\n",
      "        self.deleted_indices = []\n",
      "        print \"Initializing in navigation mode.  Press:\\n\\\"a\\\" to add centroids with click\\n\\\"r\\\" to remove centroids with click\\n\\\"n\\\" to return to navigation mode\"\n",
      "\n",
      "    def connect(self):\n",
      "        self.cid_key = self.p.figure.canvas.mpl_connect('key_press_event', self.set_mode)\n",
      "        self.cid_click = self.p.figure.canvas.mpl_connect('button_press_event', self.edit_centroids)\n",
      "  \n",
      "    def set_mode(self, event):\n",
      "        if event.key == 'a' and self.mode != 1:\n",
      "            print \"Entering add mode. Click to add a centroid.\"\n",
      "            stdout.flush()\n",
      "            self.mode = 1\n",
      "        elif event.key == 'd' and self.mode != -1:    \n",
      "            print \"Entering delete mode. Click to delete a centroid.\"\n",
      "            stdout.flush()\n",
      "            self.mode = -1\n",
      "        elif event.key == 'n' and self.mode != 0:\n",
      "            print \"Entering navigation mode. Clicks will not alter centroid list.\"\n",
      "            stdout.flush\n",
      "            self.mode = 0\n",
      "        \n",
      "    def edit_centroids(self, event):\n",
      "        if self.mode == 1:\n",
      "            self.x.append(event.xdata)\n",
      "            self.y.append(event.ydata)\n",
      "            self.p.axes.add_patch(Circle((event.xdata,event.ydata),self.r))\n",
      "            self.p.figure.canvas.draw()\n",
      "            print \"Added ({},{}) to the centroid list.\".format(event.x, event.y)\n",
      "            stdout.flush()\n",
      "        elif self.mode == -1:\n",
      "            contains, patch_dict = self.p.contains(event)\n",
      "            if contains:\n",
      "                print \"You got one!\"\n",
      "                \"\"\"Can't seem to remove patches from a patchCollection\n",
      "                Ugly workaround - add a black circle patch, and keep a list of \"removed indices\"\n",
      "                Cut these out of self.x and self.y at the END (so as not to cause indexing confusion)\"\"\"\n",
      "                index=patch_dict['ind'][0]\n",
      "                self.deleted_indices.append(index)\n",
      "                self.p.axes.add_patch(Circle((self.x[index],self.y[index]),self.r,fc='k'))\n",
      "                print \"Added ({},{}) to the deleted centroid list. Be sure to remove the full list once complete.\".format(self.x[index], self.y[index])\n",
      "                stdout.flush()\n"
     ],
     "language": "python",
     "metadata": {},
     "outputs": [],
     "prompt_number": 71
    },
    {
     "cell_type": "markdown",
     "metadata": {},
     "source": [
      "####Edit centroids####"
     ]
    },
    {
     "cell_type": "code",
     "collapsed": false,
     "input": [
      "fig, ax = plt.subplots()\n",
      "plt.imshow(image,cmap='gray')\n",
      "\n",
      "r=spacing/6\n",
      "patches=[]\n",
      "for i in range(len(x)):\n",
      "    circle = Circle((x[i],y[i]),r)\n",
      "    patches.append(circle)\n",
      "p = PatchCollection(patches,facecolors='r', linewidths=0)\n",
      "ax.add_collection(p)\n",
      "\n",
      "centroids = Centroids(x,y,r,p)\n",
      "centroids.connect()"
     ],
     "language": "python",
     "metadata": {},
     "outputs": [
      {
       "output_type": "stream",
       "stream": "stdout",
       "text": [
        "Initializing in navigation mode.  Press:\n",
        "\"a\" to add centroids with click\n",
        "\"r\" to remove centroids with click\n",
        "\"n\" to return to navigation mode\n"
       ]
      },
      {
       "output_type": "stream",
       "stream": "stdout",
       "text": [
        "Entering delete mode. Click to delete a centroid.\n"
       ]
      },
      {
       "output_type": "stream",
       "stream": "stdout",
       "text": [
        "You got one!\n",
        "Added (43,21) to the deleted centroid list. Be sure to remove the full list once complete.\n"
       ]
      },
      {
       "output_type": "stream",
       "stream": "stdout",
       "text": [
        "You got one!\n",
        "Added (39,56) to the deleted centroid list. Be sure to remove the full list once complete.\n"
       ]
      },
      {
       "output_type": "stream",
       "stream": "stdout",
       "text": [
        "You got one!\n",
        "Added (70,63) to the deleted centroid list. Be sure to remove the full list once complete.\n"
       ]
      },
      {
       "output_type": "stream",
       "stream": "stdout",
       "text": [
        "You got one!\n",
        "Added (76,28) to the deleted centroid list. Be sure to remove the full list once complete.\n"
       ]
      },
      {
       "output_type": "stream",
       "stream": "stdout",
       "text": [
        "Entering add mode. Click to add a centroid.\n"
       ]
      },
      {
       "output_type": "stream",
       "stream": "stdout",
       "text": [
        "Added (457,312) to the centroid list.\n"
       ]
      },
      {
       "output_type": "stream",
       "stream": "stdout",
       "text": [
        "Added (619,284) to the centroid list.\n"
       ]
      },
      {
       "output_type": "stream",
       "stream": "stdout",
       "text": [
        "Added (636,460) to the centroid list.\n"
       ]
      },
      {
       "output_type": "stream",
       "stream": "stdout",
       "text": [
        "Added (487,479) to the centroid list.\n"
       ]
      }
     ],
     "prompt_number": 72
    },
    {
     "cell_type": "markdown",
     "metadata": {},
     "source": [
      "####Create new x,y lists####"
     ]
    },
    {
     "cell_type": "code",
     "collapsed": false,
     "input": [
      "x_new=centroids.x\n",
      "y_new=centroids.y\n",
      "indices=np.unique(centroids.deleted_indices)\n",
      "while len(indices)!=0:\n",
      "    x_new.pop(indices[-1])\n",
      "    y_new.pop(indices[-1])\n",
      "    indices=np.delete(indices,-1)"
     ],
     "language": "python",
     "metadata": {},
     "outputs": [
      {
       "output_type": "stream",
       "stream": "stdout",
       "text": [
        "Entering navigation mode. Clicks will not alter centroid list.\n"
       ]
      }
     ],
     "prompt_number": 73
    },
    {
     "cell_type": "markdown",
     "metadata": {},
     "source": [
      "####Show edited centroids####"
     ]
    },
    {
     "cell_type": "code",
     "collapsed": false,
     "input": [
      "fig, ax = plt.subplots()\n",
      "plt.imshow(image,cmap='gray')\n",
      "\n",
      "r=spacing/6\n",
      "patches=[]\n",
      "for i in range(len(x_new)):\n",
      "    circle = Circle((x_new[i],y_new[i]),r)\n",
      "    patches.append(circle)\n",
      "p = PatchCollection(patches,facecolors='r', linewidths=0)\n",
      "ax.add_collection(p)"
     ],
     "language": "python",
     "metadata": {},
     "outputs": [
      {
       "metadata": {},
       "output_type": "pyout",
       "prompt_number": 74,
       "text": [
        "<matplotlib.collections.PatchCollection at 0x116137110>"
       ]
      }
     ],
     "prompt_number": 74
    },
    {
     "cell_type": "markdown",
     "metadata": {},
     "source": [
      "####Save as .npz file####"
     ]
    },
    {
     "cell_type": "code",
     "collapsed": false,
     "input": [
      "np.savez(output_name,x=x_new,y=y_new,spacing=spacing)"
     ],
     "language": "python",
     "metadata": {},
     "outputs": [],
     "prompt_number": 76
    },
    {
     "cell_type": "code",
     "collapsed": false,
     "input": [],
     "language": "python",
     "metadata": {},
     "outputs": []
    }
   ],
   "metadata": {}
  }
 ]
}