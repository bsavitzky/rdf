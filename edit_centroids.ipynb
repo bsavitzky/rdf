{
 "metadata": {
  "name": "",
  "signature": "sha256:106b39ca9e993e8cac2abd973723ec9d4b7b26c6dd99bc735f2e8133f25ea533"
 },
 "nbformat": 3,
 "nbformat_minor": 0,
 "worksheets": [
  {
   "cells": [
    {
     "cell_type": "markdown",
     "metadata": {},
     "source": [
      "####Define filepaths####"
     ]
    },
    {
     "cell_type": "code",
     "collapsed": false,
     "input": [
      "image_file=\"/Users/bsavitzky/Data/PbSe_QDS/150901_CBCs_PbSe_lowThickness_noUltrathin/TiffsFromDm3Files/29_fov750nm_8us_4096.tif\"\n",
      "centroid_file=\"outputs/centroids.npz\""
     ],
     "language": "python",
     "metadata": {},
     "outputs": [],
     "prompt_number": 1
    },
    {
     "cell_type": "markdown",
     "metadata": {},
     "source": [
      "####Import libraries####"
     ]
    },
    {
     "cell_type": "code",
     "collapsed": false,
     "input": [
      "import numpy as np\n",
      "import matplotlib.pyplot as plt\n",
      "import os\n",
      "import skimage.io\n",
      "\n",
      "from matplotlib.patches import Circle\n",
      "from matplotlib.collections import PatchCollection"
     ],
     "language": "python",
     "metadata": {},
     "outputs": [],
     "prompt_number": 2
    },
    {
     "cell_type": "markdown",
     "metadata": {},
     "source": [
      "####Configure matplotlib####"
     ]
    },
    {
     "cell_type": "code",
     "collapsed": false,
     "input": [
      "%matplotlib osx"
     ],
     "language": "python",
     "metadata": {},
     "outputs": [],
     "prompt_number": 3
    },
    {
     "cell_type": "markdown",
     "metadata": {},
     "source": [
      "###Handle I/O###"
     ]
    },
    {
     "cell_type": "markdown",
     "metadata": {},
     "source": [
      "####Output path####"
     ]
    },
    {
     "cell_type": "code",
     "collapsed": false,
     "input": [
      "if not os.path.exists(\"outputs\"):\n",
      "    os.mkdir(\"outputs\")\n",
      "output_name=\"outputs/\"+\"centroids_edited\""
     ],
     "language": "python",
     "metadata": {},
     "outputs": [],
     "prompt_number": 4
    },
    {
     "cell_type": "markdown",
     "metadata": {},
     "source": [
      "####Get image and centroids####"
     ]
    },
    {
     "cell_type": "code",
     "collapsed": false,
     "input": [
      "image = skimage.io.imread(image_file)\n",
      "centroids = np.load(centroid_file)\n",
      "x=centroids['x']\n",
      "y=centroids['y']\n",
      "spacing=float(centroids['spacing'])"
     ],
     "language": "python",
     "metadata": {},
     "outputs": [],
     "prompt_number": 5
    },
    {
     "cell_type": "markdown",
     "metadata": {},
     "source": [
      "###Make edits###"
     ]
    },
    {
     "cell_type": "markdown",
     "metadata": {},
     "source": [
      "####Define callback events####"
     ]
    },
    {
     "cell_type": "code",
     "collapsed": false,
     "input": [
      "class Centroids:\n",
      "    def __init__(self, x, y, r, patches):\n",
      "        self.p = patches\n",
      "        self.x = np.ndarray.tolist(x)\n",
      "        self.y = np.ndarray.tolist(y)\n",
      "        self.r = r\n",
      "        self.cid = patches.figure.canvas.mpl_connect('button_press_event',self)\n",
      "\n",
      "# Don't use call function here!  That is kind of silly. Define a set of methods, and call them as needed....\n",
      "    def __call__(self, event):\n",
      "        print 'click', event\n",
      "        if event.inaxes != self.p.axes: return\n",
      "        self.x.append(event.xdata)\n",
      "        self.y.append(event.ydata)\n",
      "        self.p.axes.add_patch(Circle((event.xdata,event.ydata),self.r))\n",
      "        self.p.figure.canvas.draw()"
     ],
     "language": "python",
     "metadata": {},
     "outputs": [],
     "prompt_number": 6
    },
    {
     "cell_type": "markdown",
     "metadata": {},
     "source": [
      "####Create and display overlay####"
     ]
    },
    {
     "cell_type": "code",
     "collapsed": false,
     "input": [
      "fig, ax = plt.subplots()\n",
      "plt.imshow(image,cmap='gray')\n",
      "\n",
      "r=spacing/6\n",
      "patches=[]\n",
      "for i in range(len(x)):\n",
      "    circle = Circle((x[i],y[i]),r)\n",
      "    patches.append(circle)\n",
      "p = PatchCollection(patches,facecolors='r', linewidths=0)\n",
      "ax.add_collection(p)\n",
      "\n",
      "centroids = Centroids(x,y,r,p)"
     ],
     "language": "python",
     "metadata": {},
     "outputs": [],
     "prompt_number": 7
    },
    {
     "cell_type": "code",
     "collapsed": false,
     "input": [],
     "language": "python",
     "metadata": {},
     "outputs": [],
     "prompt_number": 7
    },
    {
     "cell_type": "code",
     "collapsed": false,
     "input": [],
     "language": "python",
     "metadata": {},
     "outputs": [],
     "prompt_number": 7
    },
    {
     "cell_type": "code",
     "collapsed": false,
     "input": [],
     "language": "python",
     "metadata": {},
     "outputs": [
      {
       "output_type": "stream",
       "stream": "stdout",
       "text": [
        "click MPL MouseEvent: xy=(299,655) xydata=(899.268595041,1143.03719008) button=1 dblclick=0 inaxes=Axes(0.127992,0.1;0.769017x0.8)\n",
        "click"
       ]
      },
      {
       "output_type": "stream",
       "stream": "stdout",
       "text": [
        " MPL MouseEvent: xy=(389,581) xydata=(1220.19271225,1666.31292261) button=1 dblclick=0 inaxes=Axes(0.209554,0.1;0.605892x0.8)\n",
        "click"
       ]
      },
      {
       "output_type": "stream",
       "stream": "stdout",
       "text": [
        " MPL MouseEvent: xy=(435,552) xydata=(1330.89786633,1770.88609448) button=1 dblclick=0 inaxes=Axes(0.125,0.128097;0.775x0.743807)\n",
        "click"
       ]
      },
      {
       "output_type": "stream",
       "stream": "stdout",
       "text": [
        " MPL MouseEvent: xy=(224,203) xydata=(1337.1117239,1812.67500652) button=1 dblclick=0 inaxes=Axes(0.125,0.108572;0.775x0.782855)\n",
        "click"
       ]
      },
      {
       "output_type": "stream",
       "stream": "stdout",
       "text": [
        " MPL MouseEvent: xy=(613,479) xydata=(1361.7455134,1795.1970479) button=1 dblclick=0 inaxes=Axes(0.125,0.108572;0.775x0.782855)\n",
        "click"
       ]
      },
      {
       "output_type": "stream",
       "stream": "stdout",
       "text": [
        " MPL MouseEvent: xy=(799,625) xydata=(1373.52413768,1785.95146109) button=1 dblclick=0 inaxes=Axes(0.125,0.108572;0.775x0.782855)\n",
        "click"
       ]
      }
     ],
     "prompt_number": 7
    },
    {
     "cell_type": "code",
     "collapsed": false,
     "input": [],
     "language": "python",
     "metadata": {},
     "outputs": []
    },
    {
     "cell_type": "code",
     "collapsed": false,
     "input": [
      "cid = fig.canvas.mpl_connect('button_press_event', onclick_add)"
     ],
     "language": "python",
     "metadata": {},
     "outputs": [
      {
       "output_type": "stream",
       "stream": "stdout",
       "text": [
        "(x,y)=(2323.95087001,3009.46775844) added to centroids list\n"
       ]
      },
      {
       "output_type": "stream",
       "stream": "stdout",
       "text": [
        "(x,y)=(20.9825997953,2687.05220061) added to centroids list\n",
        "(x,y)=(2408.39303992,3017.14431934) added to centroids list"
       ]
      },
      {
       "output_type": "stream",
       "stream": "stdout",
       "text": [
        "\n",
        "(x,y)=(2016.88843398,829.324462641) added to centroids list"
       ]
      },
      {
       "output_type": "stream",
       "stream": "stdout",
       "text": [
        "\n",
        "(x,y)=(328.045035824,353.377686796) added to centroids list"
       ]
      },
      {
       "output_type": "stream",
       "stream": "stdout",
       "text": [
        "\n",
        "(x,y)=(36.3357215967,38.6386898669) added to centroids list"
       ]
      }
     ],
     "prompt_number": 31
    },
    {
     "cell_type": "code",
     "collapsed": false,
     "input": [
      "fig.canvas.mpl_disconnect"
     ],
     "language": "python",
     "metadata": {},
     "outputs": []
    },
    {
     "cell_type": "code",
     "collapsed": false,
     "input": [
      "p.axes.draw?"
     ],
     "language": "python",
     "metadata": {},
     "outputs": [],
     "prompt_number": 23
    },
    {
     "cell_type": "code",
     "collapsed": false,
     "input": [
      "len(centroids.x)"
     ],
     "language": "python",
     "metadata": {},
     "outputs": [
      {
       "output_type": "stream",
       "stream": "stdout",
       "text": [
        " MPL MouseEvent: xy=(424,312) xydata=(1894.70327422,2428.18212824) button=1 dblclick=0 inaxes=Axes(0.175489,0.1;0.674023x0.8)\n"
       ]
      },
      {
       "metadata": {},
       "output_type": "pyout",
       "prompt_number": 43,
       "text": [
        "13647"
       ]
      }
     ],
     "prompt_number": 43
    },
    {
     "cell_type": "code",
     "collapsed": false,
     "input": [
      "len(x)"
     ],
     "language": "python",
     "metadata": {},
     "outputs": [
      {
       "metadata": {},
       "output_type": "pyout",
       "prompt_number": 44,
       "text": [
        "13640"
       ]
      },
      {
       "output_type": "stream",
       "stream": "stdout",
       "text": [
        "click MPL MouseEvent: xy=(402,386) xydata=(1741.03342428,1911.29263302) button=1 dblclick=0 inaxes=Axes(0.175489,0.1;0.674023x0.8)\n",
        "click"
       ]
      },
      {
       "output_type": "stream",
       "stream": "stdout",
       "text": [
        " MPL MouseEvent: xy=(453,331) xydata=(1923.81862927,2126.63744744) button=1 dblclick=0 inaxes=Axes(0.199998,0.1;0.625003x0.8)\n",
        "click"
       ]
      },
      {
       "output_type": "stream",
       "stream": "stdout",
       "text": [
        " MPL MouseEvent: xy=(504,340) xydata=(1957.23081526,2120.74117933) button=1 dblclick=0 inaxes=Axes(0.199998,0.1;0.625003x0.8)\n",
        "click"
       ]
      },
      {
       "output_type": "stream",
       "stream": "stdout",
       "text": [
        " MPL MouseEvent: xy=(481,281) xydata=(1942.16257452,2159.39449254) button=1 dblclick=0 inaxes=Axes(0.199998,0.1;0.625003x0.8)\n",
        "click"
       ]
      },
      {
       "output_type": "stream",
       "stream": "stdout",
       "text": [
        " MPL MouseEvent: xy=(346,362) xydata=(1853.71855277,2106.32807949) button=1 dblclick=0 inaxes=Axes(0.199998,0.1;0.625003x0.8)\n",
        "click"
       ]
      }
     ],
     "prompt_number": 44
    },
    {
     "cell_type": "code",
     "collapsed": false,
     "input": [],
     "language": "python",
     "metadata": {},
     "outputs": [],
     "prompt_number": 5
    },
    {
     "cell_type": "code",
     "collapsed": false,
     "input": [],
     "language": "python",
     "metadata": {},
     "outputs": [],
     "prompt_number": 5
    },
    {
     "cell_type": "code",
     "collapsed": false,
     "input": [],
     "language": "python",
     "metadata": {},
     "outputs": [],
     "prompt_number": 5
    },
    {
     "cell_type": "code",
     "collapsed": false,
     "input": [],
     "language": "python",
     "metadata": {},
     "outputs": []
    },
    {
     "cell_type": "code",
     "collapsed": false,
     "input": [
      "def onclick_add(event):\n",
      "    print \"(x,y)=({},{}) added to centroids list\".format(event.xdata, event.ydata)\n",
      "    return event.xdata, event.ydata"
     ],
     "language": "python",
     "metadata": {},
     "outputs": [],
     "prompt_number": 28
    },
    {
     "cell_type": "code",
     "collapsed": false,
     "input": [
      "def on_key(event):\n",
      "    if event.key=='a':\n",
      "        cid = fig.canvas.mpl_connect('button_press_event', onclick_add)\n",
      "        return"
     ],
     "language": "python",
     "metadata": {},
     "outputs": []
    }
   ],
   "metadata": {}
  }
 ]
}