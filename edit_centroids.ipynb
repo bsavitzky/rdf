{
 "metadata": {
  "name": "",
  "signature": "sha256:05d71d091438ae1375e02d95a8463e1426b881b67ec0cc872699fc4710843ed4"
 },
 "nbformat": 3,
 "nbformat_minor": 0,
 "worksheets": [
  {
   "cells": [
    {
     "cell_type": "markdown",
     "metadata": {},
     "source": [
      "####Define filepaths####"
     ]
    },
    {
     "cell_type": "code",
     "collapsed": false,
     "input": [
      "image_file=\"/Users/bsavitzky/Data/PbSe_QDS/150831_CBCs_PbSe_lowThickness_noUltrathin/TiffsFromDm3Files/41_fov600nm_8us_4096.tif\"\n",
      "path=\"../150831_3-4layer/3layers/150831_41/\"\n",
      "centroid_file=path+\"outputs/centroids.npz\""
     ],
     "language": "python",
     "metadata": {},
     "outputs": [],
     "prompt_number": 1
    },
    {
     "cell_type": "markdown",
     "metadata": {},
     "source": [
      "####Import libraries####"
     ]
    },
    {
     "cell_type": "code",
     "collapsed": false,
     "input": [
      "import numpy as np\n",
      "import matplotlib.pyplot as plt\n",
      "import os\n",
      "import skimage.io\n",
      "\n",
      "from matplotlib.patches import Circle\n",
      "from matplotlib.collections import PatchCollection\n",
      "from sys import stdout"
     ],
     "language": "python",
     "metadata": {},
     "outputs": [],
     "prompt_number": 2
    },
    {
     "cell_type": "markdown",
     "metadata": {},
     "source": [
      "####Configure matplotlib####"
     ]
    },
    {
     "cell_type": "code",
     "collapsed": false,
     "input": [
      "%matplotlib osx"
     ],
     "language": "python",
     "metadata": {},
     "outputs": [],
     "prompt_number": 3
    },
    {
     "cell_type": "markdown",
     "metadata": {},
     "source": [
      "###Handle I/O###"
     ]
    },
    {
     "cell_type": "markdown",
     "metadata": {},
     "source": [
      "####Output path####"
     ]
    },
    {
     "cell_type": "code",
     "collapsed": false,
     "input": [
      "if not os.path.exists(path+\"outputs\"):\n",
      "    os.mkdir(path+\"outputs\")\n",
      "output_name=path+\"outputs/\"+\"centroids_edited\""
     ],
     "language": "python",
     "metadata": {},
     "outputs": [],
     "prompt_number": 4
    },
    {
     "cell_type": "markdown",
     "metadata": {},
     "source": [
      "####Get image and centroids####"
     ]
    },
    {
     "cell_type": "code",
     "collapsed": false,
     "input": [
      "image = skimage.io.imread(image_file)\n",
      "centroids = np.load(centroid_file)\n",
      "x=centroids['x']\n",
      "y=centroids['y']\n",
      "spacing=float(centroids['spacing'])"
     ],
     "language": "python",
     "metadata": {},
     "outputs": [],
     "prompt_number": 5
    },
    {
     "cell_type": "markdown",
     "metadata": {},
     "source": [
      "###Make edits###"
     ]
    },
    {
     "cell_type": "markdown",
     "metadata": {},
     "source": [
      "####Define Centroids class with necessary bindings####"
     ]
    },
    {
     "cell_type": "code",
     "collapsed": false,
     "input": [
      "class Centroids:\n",
      "    def __init__(self, x, y, r, patches):\n",
      "        self.p = patches\n",
      "        self.x = np.ndarray.tolist(x)\n",
      "        self.y = np.ndarray.tolist(y)\n",
      "        self.r = r\n",
      "        self.mode = 0\n",
      "        self.deleted_indices = []\n",
      "        print \"Initializing in navigation mode.  Press:\\n\\\"a\\\" to add centroids with click\\n\\\"d\\\" to remove centroids with click\\n\\\"n\\\" to return to navigation mode\"\n",
      "\n",
      "    def connect(self):\n",
      "        self.cid_key = self.p.figure.canvas.mpl_connect('key_press_event', self.set_mode)\n",
      "        self.cid_click = self.p.figure.canvas.mpl_connect('button_press_event', self.edit_centroids)\n",
      "  \n",
      "    def set_mode(self, event):\n",
      "        if event.key == 'a' and self.mode != 1:\n",
      "            print \"Entering add mode. Click to add a centroid.\"\n",
      "            stdout.flush()\n",
      "            self.mode = 1\n",
      "        elif event.key == 'd' and self.mode != -1:    \n",
      "            print \"Entering delete mode. Click to delete a centroid.\"\n",
      "            stdout.flush()\n",
      "            self.mode = -1\n",
      "        elif event.key == 'n' and self.mode != 0:\n",
      "            print \"Entering navigation mode. Clicks will not alter centroid list.\"\n",
      "            stdout.flush\n",
      "            self.mode = 0\n",
      "        \n",
      "    def edit_centroids(self, event):\n",
      "        if self.mode == 1:\n",
      "            self.x.append(event.xdata)\n",
      "            self.y.append(event.ydata)\n",
      "            self.p.axes.add_patch(Circle((event.xdata,event.ydata),self.r))\n",
      "            self.p.figure.canvas.draw()\n",
      "            print \"Added ({},{}) to the centroid list.\".format(event.x, event.y)\n",
      "            stdout.flush()\n",
      "        elif self.mode == -1:\n",
      "            contains, patch_dict = self.p.contains(event)\n",
      "            if contains:\n",
      "                print \"You got one!\"\n",
      "                \"\"\"Can't seem to remove patches from a patchCollection\n",
      "                Ugly workaround - add a black circle patch, and keep a list of \"removed indices\"\n",
      "                Cut these out of self.x and self.y at the END (so as not to cause indexing confusion)\"\"\"\n",
      "                index=patch_dict['ind'][0]\n",
      "                self.deleted_indices.append(index)\n",
      "                self.p.axes.add_patch(Circle((self.x[index],self.y[index]),self.r,fc='k'))\n",
      "                print \"Added ({},{}) to the deleted centroid list. Be sure to remove the full list once complete.\".format(self.x[index], self.y[index])\n",
      "                stdout.flush()\n"
     ],
     "language": "python",
     "metadata": {},
     "outputs": [],
     "prompt_number": 6
    },
    {
     "cell_type": "markdown",
     "metadata": {},
     "source": [
      "####Edit centroids####"
     ]
    },
    {
     "cell_type": "code",
     "collapsed": false,
     "input": [
      "fig, ax = plt.subplots()\n",
      "plt.imshow(image,cmap='gray')\n",
      "\n",
      "r=spacing/6\n",
      "patches=[]\n",
      "for i in range(len(x)):\n",
      "    circle = Circle((x[i],y[i]),r)\n",
      "    patches.append(circle)\n",
      "p = PatchCollection(patches,facecolors='r', linewidths=0)\n",
      "ax.add_collection(p)\n",
      "\n",
      "centroids = Centroids(x,y,r,p)\n",
      "centroids.connect()"
     ],
     "language": "python",
     "metadata": {},
     "outputs": [
      {
       "output_type": "stream",
       "stream": "stdout",
       "text": [
        "Initializing in navigation mode.  Press:\n",
        "\"a\" to add centroids with click\n",
        "\"d\" to remove centroids with click\n",
        "\"n\" to return to navigation mode\n"
       ]
      },
      {
       "output_type": "stream",
       "stream": "stdout",
       "text": [
        "Entering add mode. Click to add a centroid.\n"
       ]
      },
      {
       "output_type": "stream",
       "stream": "stdout",
       "text": [
        "Added (354,932) to the centroid list.\n"
       ]
      },
      {
       "output_type": "stream",
       "stream": "stdout",
       "text": [
        "Added (657,919) to the centroid list.\n"
       ]
      },
      {
       "output_type": "stream",
       "stream": "stdout",
       "text": [
        "Added (314,449) to the centroid list.\n"
       ]
      },
      {
       "output_type": "stream",
       "stream": "stdout",
       "text": [
        "Added (232,291) to the centroid list.\n"
       ]
      },
      {
       "output_type": "stream",
       "stream": "stdout",
       "text": [
        "Added (232,320) to the centroid list.\n"
       ]
      },
      {
       "output_type": "stream",
       "stream": "stdout",
       "text": [
        "Entering delete mode. Click to delete a centroid.\n"
       ]
      },
      {
       "output_type": "stream",
       "stream": "stdout",
       "text": [
        "You got one!\n",
        "Added (11,920) to the deleted centroid list. Be sure to remove the full list once complete.\n"
       ]
      },
      {
       "output_type": "stream",
       "stream": "stdout",
       "text": [
        "Entering add mode. Click to add a centroid.\n"
       ]
      },
      {
       "output_type": "stream",
       "stream": "stdout",
       "text": [
        "Added (260,404) to the centroid list.\n"
       ]
      },
      {
       "output_type": "stream",
       "stream": "stdout",
       "text": [
        "Added (493,912) to the centroid list.\n"
       ]
      },
      {
       "output_type": "stream",
       "stream": "stdout",
       "text": [
        "Entering navigation mode. Clicks will not alter centroid list.\n",
        "Entering add mode. Click to add a centroid."
       ]
      },
      {
       "output_type": "stream",
       "stream": "stdout",
       "text": [
        "\n"
       ]
      },
      {
       "output_type": "stream",
       "stream": "stdout",
       "text": [
        "Added (286,222) to the centroid list.\n"
       ]
      },
      {
       "output_type": "stream",
       "stream": "stdout",
       "text": [
        "Entering navigation mode. Clicks will not alter centroid list.\n",
        "Entering add mode. Click to add a centroid."
       ]
      },
      {
       "output_type": "stream",
       "stream": "stdout",
       "text": [
        "\n"
       ]
      },
      {
       "output_type": "stream",
       "stream": "stdout",
       "text": [
        "Added (238,236) to the centroid list.\n"
       ]
      },
      {
       "output_type": "stream",
       "stream": "stdout",
       "text": [
        "Entering delete mode. Click to delete a centroid.\n"
       ]
      },
      {
       "output_type": "stream",
       "stream": "stdout",
       "text": [
        "You got one!\n",
        "Added (3149,0) to the deleted centroid list. Be sure to remove the full list once complete.\n"
       ]
      },
      {
       "output_type": "stream",
       "stream": "stdout",
       "text": [
        "Entering add mode. Click to add a centroid.\n"
       ]
      },
      {
       "output_type": "stream",
       "stream": "stdout",
       "text": [
        "Added (578,995) to the centroid list.\n"
       ]
      },
      {
       "output_type": "stream",
       "stream": "stdout",
       "text": [
        "Entering navigation mode. Clicks will not alter centroid list.\n",
        "Entering add mode. Click to add a centroid."
       ]
      },
      {
       "output_type": "stream",
       "stream": "stdout",
       "text": [
        "\n"
       ]
      },
      {
       "output_type": "stream",
       "stream": "stdout",
       "text": [
        "Added (1000,435) to the centroid list.\n"
       ]
      },
      {
       "output_type": "stream",
       "stream": "stdout",
       "text": [
        "Entering navigation mode. Clicks will not alter centroid list.\n",
        "Entering add mode. Click to add a centroid."
       ]
      },
      {
       "output_type": "stream",
       "stream": "stdout",
       "text": [
        "\n"
       ]
      },
      {
       "output_type": "stream",
       "stream": "stdout",
       "text": [
        "Added (591,189) to the centroid list.\n"
       ]
      },
      {
       "output_type": "stream",
       "stream": "stdout",
       "text": [
        "Entering navigation mode. Clicks will not alter centroid list.\n",
        "Entering add mode. Click to add a centroid."
       ]
      },
      {
       "output_type": "stream",
       "stream": "stdout",
       "text": [
        "\n"
       ]
      },
      {
       "output_type": "stream",
       "stream": "stdout",
       "text": [
        "Added (967,530) to the centroid list.\n"
       ]
      },
      {
       "output_type": "stream",
       "stream": "stdout",
       "text": [
        "Entering navigation mode. Clicks will not alter centroid list.\n",
        "Entering add mode. Click to add a centroid."
       ]
      },
      {
       "output_type": "stream",
       "stream": "stdout",
       "text": [
        "\n"
       ]
      },
      {
       "output_type": "stream",
       "stream": "stdout",
       "text": [
        "Added (228,703) to the centroid list.\n"
       ]
      },
      {
       "output_type": "stream",
       "stream": "stdout",
       "text": [
        "Entering navigation mode. Clicks will not alter centroid list.\n",
        "Entering add mode. Click to add a centroid."
       ]
      },
      {
       "output_type": "stream",
       "stream": "stdout",
       "text": [
        "\n"
       ]
      },
      {
       "output_type": "stream",
       "stream": "stdout",
       "text": [
        "Added (279,176) to the centroid list.\n"
       ]
      },
      {
       "output_type": "stream",
       "stream": "stdout",
       "text": [
        "Entering navigation mode. Clicks will not alter centroid list.\n",
        "Entering add mode. Click to add a centroid."
       ]
      },
      {
       "output_type": "stream",
       "stream": "stdout",
       "text": [
        "\n"
       ]
      },
      {
       "output_type": "stream",
       "stream": "stdout",
       "text": [
        "Added (940,152) to the centroid list.\n"
       ]
      },
      {
       "output_type": "stream",
       "stream": "stdout",
       "text": [
        "Added (969,183) to the centroid list.\n"
       ]
      },
      {
       "output_type": "stream",
       "stream": "stdout",
       "text": [
        "Entering navigation mode. Clicks will not alter centroid list.\n",
        "Entering add mode. Click to add a centroid."
       ]
      },
      {
       "output_type": "stream",
       "stream": "stdout",
       "text": [
        "\n"
       ]
      },
      {
       "output_type": "stream",
       "stream": "stdout",
       "text": [
        "Added (643,366) to the centroid list.\n"
       ]
      },
      {
       "output_type": "stream",
       "stream": "stdout",
       "text": [
        "Added (909,894) to the centroid list.\n"
       ]
      },
      {
       "output_type": "stream",
       "stream": "stdout",
       "text": [
        "Added (926,320) to the centroid list.\n"
       ]
      },
      {
       "output_type": "stream",
       "stream": "stdout",
       "text": [
        "Added (985,258) to the centroid list.\n"
       ]
      }
     ],
     "prompt_number": 7
    },
    {
     "cell_type": "markdown",
     "metadata": {},
     "source": [
      "####Create new x,y lists####"
     ]
    },
    {
     "cell_type": "code",
     "collapsed": false,
     "input": [
      "x_new=centroids.x\n",
      "y_new=centroids.y\n",
      "indices=np.unique(centroids.deleted_indices)\n",
      "while len(indices)!=0:\n",
      "    x_new.pop(indices[-1])\n",
      "    y_new.pop(indices[-1])\n",
      "    indices=np.delete(indices,-1)"
     ],
     "language": "python",
     "metadata": {},
     "outputs": [
      {
       "output_type": "stream",
       "stream": "stdout",
       "text": [
        "Entering navigation mode. Clicks will not alter centroid list.\n"
       ]
      },
      {
       "output_type": "stream",
       "stream": "stderr",
       "text": [
        "/opt/local/Library/Frameworks/Python.framework/Versions/2.7/lib/python2.7/site-packages/matplotlib/collections.py:336: UserWarning: Collection picker None could not be converted to float\n",
        "  % self._picker)\n"
       ]
      }
     ],
     "prompt_number": 8
    },
    {
     "cell_type": "markdown",
     "metadata": {},
     "source": [
      "####Show edited centroids####"
     ]
    },
    {
     "cell_type": "code",
     "collapsed": false,
     "input": [
      "fig, ax = plt.subplots()\n",
      "plt.imshow(image,cmap='gray')\n",
      "\n",
      "r=spacing/6\n",
      "patches=[]\n",
      "for i in range(len(x_new)):\n",
      "    circle = Circle((x_new[i],y_new[i]),r)\n",
      "    patches.append(circle)\n",
      "p = PatchCollection(patches,facecolors='r', linewidths=0)\n",
      "ax.add_collection(p)"
     ],
     "language": "python",
     "metadata": {},
     "outputs": [
      {
       "metadata": {},
       "output_type": "pyout",
       "prompt_number": 9,
       "text": [
        "<matplotlib.collections.PatchCollection at 0x116b6e050>"
       ]
      }
     ],
     "prompt_number": 9
    },
    {
     "cell_type": "markdown",
     "metadata": {},
     "source": [
      "####Save as .npz file####"
     ]
    },
    {
     "cell_type": "code",
     "collapsed": false,
     "input": [
      "np.savez(output_name,x=x_new,y=y_new,spacing=spacing)"
     ],
     "language": "python",
     "metadata": {},
     "outputs": [],
     "prompt_number": 10
    },
    {
     "cell_type": "code",
     "collapsed": false,
     "input": [],
     "language": "python",
     "metadata": {},
     "outputs": []
    }
   ],
   "metadata": {}
  }
 ]
}